{
 "cells": [
  {
   "cell_type": "code",
   "execution_count": 1,
   "metadata": {},
   "outputs": [],
   "source": [
    "pets =[\"Kot\", \"Pies\", \"Rybki\"]"
   ]
  },
  {
   "cell_type": "code",
   "execution_count": 7,
   "metadata": {},
   "outputs": [
    {
     "name": "stdout",
     "output_type": "stream",
     "text": [
      "Kot\n",
      "Pies\n"
     ]
    }
   ],
   "source": [
    "for pet in pets:\n",
    "    print (pet)\n",
    "    if pet == \"Pies\":\n",
    "        break"
   ]
  },
  {
   "cell_type": "code",
   "execution_count": 33,
   "metadata": {},
   "outputs": [
    {
     "name": "stdout",
     "output_type": "stream",
     "text": [
      "dog\n"
     ]
    }
   ],
   "source": [
    "#Stwórz funckję, która rozpozna kota lub psa\n",
    "\n",
    "#funkcja\n",
    "def dogOrCat(pet):\n",
    "    \n",
    "    pet = pet.lower()\n",
    "    dogs = [\"husky\", \"BOxer\", \"german shepherd\", \"labRador\"]\n",
    "    cats = [\"sphinx\", \"british\", \"maRoon\"]\n",
    "\n",
    "    for x in range(0,len(dogs)):\n",
    "        dogs[x]=dogs[x].lower()\n",
    "    for x in range(0,len(cats)):\n",
    "        cats[x]=cats[x].lower()\n",
    "    \n",
    "    if pet in dogs:\n",
    "        return (\"dog\")\n",
    "    elif pet in cats: \n",
    "        return (\"cat\")    \n",
    "    else: \n",
    "        return (\"none\")\n",
    "\n",
    "#s = \"Kilometer\"\n",
    "#print(s.lower())     \n",
    "\n",
    "pet = \"bOXer\"\n",
    "species = dogOrCat(pet)\n",
    "print(species)\n"
   ]
  },
  {
   "cell_type": "code",
   "execution_count": 39,
   "metadata": {},
   "outputs": [
    {
     "name": "stdout",
     "output_type": "stream",
     "text": [
      "Diego\n"
     ]
    },
    {
     "ename": "NameError",
     "evalue": "name 'pet2' is not defined",
     "output_type": "error",
     "traceback": [
      "\u001b[0;31m---------------------------------------------------------------------------\u001b[0m",
      "\u001b[0;31mNameError\u001b[0m                                 Traceback (most recent call last)",
      "\u001b[0;32m<ipython-input-39-630f5334eeaa>\u001b[0m in \u001b[0;36m<module>\u001b[0;34m\u001b[0m\n\u001b[1;32m      6\u001b[0m \u001b[0mlego\u001b[0m \u001b[0;34m=\u001b[0m \u001b[0;36m2\u001b[0m\u001b[0;34m\u001b[0m\u001b[0;34m\u001b[0m\u001b[0m\n\u001b[1;32m      7\u001b[0m \u001b[0mdogOrCat\u001b[0m\u001b[0;34m(\u001b[0m\u001b[0;34m\"Diego\"\u001b[0m\u001b[0;34m)\u001b[0m\u001b[0;34m\u001b[0m\u001b[0;34m\u001b[0m\u001b[0m\n\u001b[0;32m----> 8\u001b[0;31m \u001b[0mprint\u001b[0m\u001b[0;34m(\u001b[0m\u001b[0mpet2\u001b[0m\u001b[0;34m)\u001b[0m\u001b[0;34m\u001b[0m\u001b[0;34m\u001b[0m\u001b[0m\n\u001b[0m\u001b[1;32m      9\u001b[0m \u001b[0;34m\u001b[0m\u001b[0m\n",
      "\u001b[0;31mNameError\u001b[0m: name 'pet2' is not defined"
     ]
    }
   ],
   "source": []
  },
  {
   "cell_type": "code",
   "execution_count": null,
   "metadata": {},
   "outputs": [],
   "source": []
  }
 ],
 "metadata": {
  "kernelspec": {
   "display_name": "Python 3",
   "language": "python",
   "name": "python3"
  },
  "language_info": {
   "codemirror_mode": {
    "name": "ipython",
    "version": 3
   },
   "file_extension": ".py",
   "mimetype": "text/x-python",
   "name": "python",
   "nbconvert_exporter": "python",
   "pygments_lexer": "ipython3",
   "version": "3.7.8"
  }
 },
 "nbformat": 4,
 "nbformat_minor": 4
}
